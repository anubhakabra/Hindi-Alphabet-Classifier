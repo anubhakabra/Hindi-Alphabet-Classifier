{
 "cells": [
  {
   "cell_type": "code",
   "execution_count": 127,
   "metadata": {},
   "outputs": [],
   "source": [
    "from keras.preprocessing.image import ImageDataGenerator\n",
    "from os import listdir\n",
    "from keras.preprocessing.image import load_img\n",
    "from keras.preprocessing.image import img_to_array\n",
    "from keras.applications.vgg16 import preprocess_input\n",
    "from sklearn.preprocessing import OneHotEncoder\n",
    "import numpy as np\n",
    "import matplotlib.pyplot as plt\n",
    "from keras.layers import Dropout\n",
    "from keras.layers import Flatten\n",
    "from keras.constraints import maxnorm\n",
    "from keras.optimizers import SGD\n",
    "from keras.layers import Conv2D\n",
    "from keras.layers.convolutional import MaxPooling2D\n",
    "from keras.utils import np_utils\n",
    "from keras import backend as K\n",
    "from keras.constraints import maxnorm\n",
    "from keras.models import Sequential\n",
    "from keras.layers import Dense\n",
    "from sklearn.model_selection import train_test_split"
   ]
  },
  {
   "cell_type": "code",
   "execution_count": 128,
   "metadata": {},
   "outputs": [],
   "source": [
    "train_data_folder=['character_1_ka','character_2_kha','character_3_ga','character_4_gha','character_5_kna']"
   ]
  },
  {
   "cell_type": "code",
   "execution_count": 129,
   "metadata": {},
   "outputs": [],
   "source": [
    "test_data_folder=['character_1_ka','character_2_kha','character_3_ga','character_4_gha','character_5_kna']"
   ]
  },
  {
   "cell_type": "code",
   "execution_count": 130,
   "metadata": {},
   "outputs": [],
   "source": [
    "Label = ['Ka','Kha','Ga','Gha','Kna']\n",
    "Labels = [0,1,2,3,4]"
   ]
  },
  {
   "cell_type": "code",
   "execution_count": 132,
   "metadata": {},
   "outputs": [
    {
     "name": "stdout",
     "output_type": "stream",
     "text": [
      "Loaded Images: 8500\n"
     ]
    }
   ],
   "source": [
    "\n",
    "images=[]\n",
    "y_train=[]\n",
    "i=0\n",
    "\n",
    "    \n",
    "def load_photos(train_data_folder,Desktop):\n",
    "    i=0\n",
    "    y=[]\n",
    "    images=[]\n",
    "    for directory in train_data_folder:\n",
    "        y_val=Labels[i]\n",
    "        \n",
    "        for name in listdir(Desktop+'/'+ directory):\n",
    "            # load an image from file\n",
    "            filename = Desktop+'/'+directory + '/' + name\n",
    "            image = load_img(filename) #target_size=(32, 32,1))\n",
    "            # convert the image pixels to a numpy array\n",
    "            image = img_to_array(image)\n",
    "            # reshape data for the model\n",
    "            image = image.reshape((image.shape[0], image.shape[1], image.shape[2]))\n",
    "            # prepare the image for the VGG model\n",
    "            image = preprocess_input(image)\n",
    "\n",
    "            images.append(image)\n",
    "            y.append(y_val)\n",
    "        i=i+1;\n",
    "    return images,y\n",
    "\n",
    "# load images\n",
    "Train_Desktop = 'Train_val'\n",
    "images,y = load_photos(train_data_folder,Train_Desktop)\n",
    "print('Loaded Images: %d' % len(images))"
   ]
  },
  {
   "cell_type": "code",
   "execution_count": 73,
   "metadata": {},
   "outputs": [],
   "source": [
    "def encode_data(y):\n",
    "    from sklearn.preprocessing import OneHotEncoder\n",
    "    onehot_encoder = OneHotEncoder(sparse=False)\n",
    "    y_train=y_train.reshape(8500,1)\n",
    "    onehot_encoded = onehot_encoder.fit_transform(y_train)"
   ]
  },
  {
   "cell_type": "code",
   "execution_count": 133,
   "metadata": {},
   "outputs": [],
   "source": [
    "datagen = ImageDataGenerator(\n",
    "    featurewise_center=True,\n",
    "    featurewise_std_normalization=True,\n",
    "    rotation_range=20,\n",
    "    width_shift_range=0.2,\n",
    "    height_shift_range=0.2)\n"
   ]
  },
  {
   "cell_type": "code",
   "execution_count": 140,
   "metadata": {},
   "outputs": [],
   "source": [
    "import numpy as np\n",
    "x_train = np.asarray(images)\n",
    "y_train = np.asarray(y)"
   ]
  },
  {
   "cell_type": "code",
   "execution_count": 141,
   "metadata": {},
   "outputs": [],
   "source": [
    "x_train = x_train / 255.0\n"
   ]
  },
  {
   "cell_type": "code",
   "execution_count": 143,
   "metadata": {},
   "outputs": [],
   "source": [
    "datagen.fit(x_train)"
   ]
  },
  {
   "cell_type": "code",
   "execution_count": 51,
   "metadata": {},
   "outputs": [],
   "source": [
    "input_shape = (32, 32, 3)\n",
    "# Making sure that the values are float so that we can get decimal points after division\n",
    "#x_train = x.astype('float32')\n",
    "#y_train = y.astype('float32')"
   ]
  },
  {
   "cell_type": "code",
   "execution_count": 158,
   "metadata": {},
   "outputs": [],
   "source": []
  },
  {
   "cell_type": "code",
   "execution_count": 178,
   "metadata": {},
   "outputs": [],
   "source": [
    "###CREATING THE MODEL\n",
    "model = Sequential()\n",
    "model.add(Conv2D(32, (3, 3), input_shape=input_shape, padding='same', activation='relu'))#, kernel_constraint=maxnorm(3)))\n",
    "model.add(Dropout(0.2))\n",
    "model.add(Conv2D(32, (3, 3), activation='relu', padding='same', kernel_constraint=maxnorm(3)))\n",
    "model.add(MaxPooling2D(pool_size=(2, 2)))\n",
    "model.add(Flatten())\n",
    "model.add(Dense(512, activation='relu', kernel_constraint=maxnorm(3)))\n",
    "#model.add(Dropout(0.5))\n",
    "model.add(Dense(5, activation='softmax'))\n",
    "lrate = 0.001\n",
    "decay = lrate/10\n"
   ]
  },
  {
   "cell_type": "code",
   "execution_count": null,
   "metadata": {},
   "outputs": [],
   "source": [
    "sgd = SGD(lr=lrate, momentum=0.9, decay=decay, nesterov=False)\n",
    "model.compile(loss='sparse_categorical_crossentropy',  optimizer=sgd, metrics=['accuracy'])"
   ]
  },
  {
   "cell_type": "code",
   "execution_count": 160,
   "metadata": {},
   "outputs": [
    {
     "name": "stdout",
     "output_type": "stream",
     "text": [
      "_________________________________________________________________\n",
      "Layer (type)                 Output Shape              Param #   \n",
      "=================================================================\n",
      "conv2d_32 (Conv2D)           (None, 32, 32, 32)        896       \n",
      "_________________________________________________________________\n",
      "dropout_27 (Dropout)         (None, 32, 32, 32)        0         \n",
      "_________________________________________________________________\n",
      "conv2d_33 (Conv2D)           (None, 32, 32, 32)        9248      \n",
      "_________________________________________________________________\n",
      "max_pooling2d_19 (MaxPooling (None, 16, 16, 32)        0         \n",
      "_________________________________________________________________\n",
      "flatten_27 (Flatten)         (None, 8192)              0         \n",
      "_________________________________________________________________\n",
      "dense_51 (Dense)             (None, 512)               4194816   \n",
      "_________________________________________________________________\n",
      "dense_52 (Dense)             (None, 5)                 2565      \n",
      "=================================================================\n",
      "Total params: 4,207,525\n",
      "Trainable params: 4,207,525\n",
      "Non-trainable params: 0\n",
      "_________________________________________________________________\n"
     ]
    }
   ],
   "source": [
    "model.summary()"
   ]
  },
  {
   "cell_type": "code",
   "execution_count": 147,
   "metadata": {},
   "outputs": [],
   "source": []
  },
  {
   "cell_type": "code",
   "execution_count": 161,
   "metadata": {},
   "outputs": [
    {
     "name": "stdout",
     "output_type": "stream",
     "text": [
      "Epoch 1/10\n",
      "266/265 [==============================] - 96s 361ms/step - loss: 1.4008 - acc: 0.4070\n",
      "Epoch 2/10\n",
      "266/265 [==============================] - 93s 348ms/step - loss: 1.0731 - acc: 0.5883\n",
      "Epoch 3/10\n",
      "266/265 [==============================] - 90s 340ms/step - loss: 0.7507 - acc: 0.7281\n",
      "Epoch 4/10\n",
      "266/265 [==============================] - 93s 351ms/step - loss: 0.5782 - acc: 0.7942\n",
      "Epoch 5/10\n",
      "266/265 [==============================] - 98s 367ms/step - loss: 0.4720 - acc: 0.8350\n",
      "Epoch 6/10\n",
      "266/265 [==============================] - 96s 361ms/step - loss: 0.4224 - acc: 0.8514\n",
      "Epoch 7/10\n",
      "266/265 [==============================] - 96s 361ms/step - loss: 0.3710 - acc: 0.8755\n",
      "Epoch 8/10\n",
      "266/265 [==============================] - 94s 355ms/step - loss: 0.3236 - acc: 0.8953\n",
      "Epoch 9/10\n",
      "266/265 [==============================] - 92s 346ms/step - loss: 0.2962 - acc: 0.9003\n",
      "Epoch 10/10\n",
      "266/265 [==============================] - 91s 340ms/step - loss: 0.2853 - acc: 0.9032\n"
     ]
    },
    {
     "data": {
      "text/plain": [
       "<keras.callbacks.History at 0x2291f309630>"
      ]
     },
     "execution_count": 161,
     "metadata": {},
     "output_type": "execute_result"
    }
   ],
   "source": [
    "model.fit_generator(datagen.flow(x_train, y_train, batch_size=32),\n",
    "                    steps_per_epoch=len(x_train) / 32, epochs=10,shuffle = True)"
   ]
  },
  {
   "cell_type": "code",
   "execution_count": null,
   "metadata": {},
   "outputs": [],
   "source": []
  },
  {
   "cell_type": "code",
   "execution_count": 162,
   "metadata": {},
   "outputs": [
    {
     "name": "stdout",
     "output_type": "stream",
     "text": [
      "Loaded Images Test: 1500\n"
     ]
    }
   ],
   "source": [
    "Desktop_test = 'Test'\n",
    "images_test,y_test = load_photos(test_data_folder,Desktop_test)\n",
    "print('Loaded Images Test: %d' % len(images_test))"
   ]
  },
  {
   "cell_type": "code",
   "execution_count": 163,
   "metadata": {},
   "outputs": [],
   "source": [
    "import numpy as np\n",
    "x_test = np.asarray(images_test)\n",
    "y_test = np.asarray(y_test)"
   ]
  },
  {
   "cell_type": "code",
   "execution_count": 164,
   "metadata": {},
   "outputs": [
    {
     "name": "stdout",
     "output_type": "stream",
     "text": [
      "Accuracy with SGD :  0.6113333334128062\n"
     ]
    }
   ],
   "source": [
    "score_SGD = model.evaluate_generator(datagen.flow(x_test, y_test, batch_size=32),steps=len(x_test)/32 )\n",
    "print (\"Accuracy with SGD : \" , score_SGD[1])"
   ]
  },
  {
   "cell_type": "code",
   "execution_count": 176,
   "metadata": {},
   "outputs": [
    {
     "name": "stdout",
     "output_type": "stream",
     "text": [
      "Epoch 1/15\n",
      "266/265 [==============================] - 106s 400ms/step - loss: 1.2363 - acc: 0.5047\n",
      "Epoch 2/15\n",
      "266/265 [==============================] - 103s 388ms/step - loss: 0.4521 - acc: 0.8431\n",
      "Epoch 3/15\n",
      "266/265 [==============================] - 107s 402ms/step - loss: 0.2887 - acc: 0.9024\n",
      "Epoch 4/15\n",
      "266/265 [==============================] - 112s 421ms/step - loss: 0.2162 - acc: 0.9292\n",
      "Epoch 5/15\n",
      "266/265 [==============================] - 110s 414ms/step - loss: 0.1758 - acc: 0.9422\n",
      "Epoch 6/15\n",
      "266/265 [==============================] - 113s 426ms/step - loss: 0.1466 - acc: 0.9515\n",
      "Epoch 7/15\n",
      "266/265 [==============================] - 103s 388ms/step - loss: 0.1473 - acc: 0.9500\n",
      "Epoch 8/15\n",
      "266/265 [==============================] - 112s 419ms/step - loss: 0.1145 - acc: 0.9626\n",
      "Epoch 9/15\n",
      "266/265 [==============================] - 85s 318ms/step - loss: 0.1190 - acc: 0.9609\n",
      "Epoch 10/15\n",
      "266/265 [==============================] - 81s 305ms/step - loss: 0.1068 - acc: 0.9657\n",
      "Epoch 11/15\n",
      "266/265 [==============================] - 85s 319ms/step - loss: 0.0969 - acc: 0.9692\n",
      "Epoch 12/15\n",
      "266/265 [==============================] - 81s 304ms/step - loss: 0.0938 - acc: 0.9675\n",
      "Epoch 13/15\n",
      "266/265 [==============================] - 75s 281ms/step - loss: 0.0818 - acc: 0.9730\n",
      "Epoch 14/15\n",
      "266/265 [==============================] - 79s 296ms/step - loss: 0.0900 - acc: 0.9693\n",
      "Epoch 15/15\n",
      "266/265 [==============================] - 77s 291ms/step - loss: 0.0770 - acc: 0.9757\n"
     ]
    },
    {
     "data": {
      "text/plain": [
       "<keras.callbacks.History at 0x22920342eb8>"
      ]
     },
     "execution_count": 176,
     "metadata": {},
     "output_type": "execute_result"
    }
   ],
   "source": [
    "model.compile(optimizer='adam', \n",
    "              loss='sparse_categorical_crossentropy', \n",
    "              metrics=['accuracy'])\n",
    "\n",
    "model.fit_generator(datagen.flow(x_train, y_train, batch_size=32),\n",
    "                    steps_per_epoch=len(x_train) / 32, epochs=15,shuffle = True)"
   ]
  },
  {
   "cell_type": "code",
   "execution_count": 177,
   "metadata": {},
   "outputs": [
    {
     "name": "stdout",
     "output_type": "stream",
     "text": [
      "Accuracy with ADAM :  0.9093333328564962\n"
     ]
    }
   ],
   "source": [
    "score_ADAM = model.evaluate_generator(datagen.flow(x_test, y_test, batch_size=32),steps=len(x_test)/32)\n",
    "print (\"Accuracy with ADAM : \" , score_ADAM[1])"
   ]
  },
  {
   "cell_type": "code",
   "execution_count": 179,
   "metadata": {},
   "outputs": [
    {
     "name": "stdout",
     "output_type": "stream",
     "text": [
      "Epoch 1/32\n",
      "266/265 [==============================] - 130s 490ms/step - loss: 1.1379 - acc: 0.5502\n",
      "Epoch 2/32\n",
      "266/265 [==============================] - 122s 457ms/step - loss: 0.4501 - acc: 0.8416\n",
      "Epoch 3/32\n",
      "266/265 [==============================] - 123s 464ms/step - loss: 0.3079 - acc: 0.8942\n",
      "Epoch 4/32\n",
      "266/265 [==============================] - 122s 459ms/step - loss: 0.2333 - acc: 0.9217\n",
      "Epoch 5/32\n",
      "266/265 [==============================] - 123s 463ms/step - loss: 0.1923 - acc: 0.9359\n",
      "Epoch 6/32\n",
      "266/265 [==============================] - 122s 457ms/step - loss: 0.1733 - acc: 0.9464\n",
      "Epoch 7/32\n",
      "266/265 [==============================] - 121s 456ms/step - loss: 0.1562 - acc: 0.9490\n",
      "Epoch 8/32\n",
      "266/265 [==============================] - 125s 469ms/step - loss: 0.1431 - acc: 0.9502\n",
      "Epoch 9/32\n",
      "266/265 [==============================] - 122s 458ms/step - loss: 0.1256 - acc: 0.9582\n",
      "Epoch 10/32\n",
      "266/265 [==============================] - 123s 461ms/step - loss: 0.1335 - acc: 0.9572\n",
      "Epoch 11/32\n",
      "266/265 [==============================] - 120s 452ms/step - loss: 0.1216 - acc: 0.9617\n",
      "Epoch 12/32\n",
      "266/265 [==============================] - 120s 451ms/step - loss: 0.1072 - acc: 0.9649\n",
      "Epoch 13/32\n",
      "266/265 [==============================] - 121s 454ms/step - loss: 0.1123 - acc: 0.9623\n",
      "Epoch 14/32\n",
      "266/265 [==============================] - 120s 452ms/step - loss: 0.1017 - acc: 0.9647\n",
      "Epoch 15/32\n",
      "266/265 [==============================] - 121s 455ms/step - loss: 0.0898 - acc: 0.9700\n",
      "Epoch 16/32\n",
      "266/265 [==============================] - 120s 452ms/step - loss: 0.0932 - acc: 0.9695\n",
      "Epoch 17/32\n",
      "266/265 [==============================] - 121s 454ms/step - loss: 0.0877 - acc: 0.9702\n",
      "Epoch 18/32\n",
      "266/265 [==============================] - 121s 455ms/step - loss: 0.0908 - acc: 0.9697\n",
      "Epoch 19/32\n",
      "266/265 [==============================] - 120s 452ms/step - loss: 0.0756 - acc: 0.9744\n",
      "Epoch 20/32\n",
      "266/265 [==============================] - 122s 460ms/step - loss: 0.0846 - acc: 0.9731\n",
      "Epoch 21/32\n",
      "266/265 [==============================] - 106s 400ms/step - loss: 0.0699 - acc: 0.9770\n",
      "Epoch 22/32\n",
      "266/265 [==============================] - 64s 242ms/step - loss: 0.0752 - acc: 0.9748\n",
      "Epoch 23/32\n",
      "266/265 [==============================] - 64s 240ms/step - loss: 0.0769 - acc: 0.9754\n",
      "Epoch 24/32\n",
      "266/265 [==============================] - 63s 236ms/step - loss: 0.0736 - acc: 0.9751\n",
      "Epoch 25/32\n",
      "266/265 [==============================] - 62s 235ms/step - loss: 0.0666 - acc: 0.9794\n",
      "Epoch 26/32\n",
      "266/265 [==============================] - 63s 237ms/step - loss: 0.0640 - acc: 0.9778\n",
      "Epoch 27/32\n",
      "266/265 [==============================] - 62s 235ms/step - loss: 0.0616 - acc: 0.9798\n",
      "Epoch 28/32\n",
      "266/265 [==============================] - 62s 234ms/step - loss: 0.0677 - acc: 0.9771\n",
      "Epoch 29/32\n",
      "266/265 [==============================] - 63s 236ms/step - loss: 0.0610 - acc: 0.9811\n",
      "Epoch 30/32\n",
      "266/265 [==============================] - 62s 234ms/step - loss: 0.0729 - acc: 0.9770\n",
      "Epoch 31/32\n",
      "266/265 [==============================] - 63s 235ms/step - loss: 0.0712 - acc: 0.9771\n",
      "Epoch 32/32\n",
      "266/265 [==============================] - 63s 236ms/step - loss: 0.0597 - acc: 0.9791\n"
     ]
    },
    {
     "data": {
      "text/plain": [
       "<keras.callbacks.History at 0x22920bcd3c8>"
      ]
     },
     "execution_count": 179,
     "metadata": {},
     "output_type": "execute_result"
    }
   ],
   "source": [
    "model.compile(optimizer='adam', \n",
    "              loss='sparse_categorical_crossentropy', \n",
    "              metrics=['accuracy'])\n",
    "\n",
    "model.fit_generator(datagen.flow(x_train, y_train, batch_size=32),\n",
    "                    steps_per_epoch=len(x_train) / 32, epochs=32,shuffle = True)"
   ]
  },
  {
   "cell_type": "code",
   "execution_count": 180,
   "metadata": {},
   "outputs": [
    {
     "name": "stdout",
     "output_type": "stream",
     "text": [
      "Accuracy with ADAM :  0.9566666669845582\n"
     ]
    }
   ],
   "source": [
    "score_ADAM = model.evaluate_generator(datagen.flow(x_test, y_test, batch_size=32),steps=len(x_test)/32)\n",
    "print (\"Accuracy with ADAM : \" , score_ADAM[1])"
   ]
  },
  {
   "cell_type": "code",
   "execution_count": null,
   "metadata": {},
   "outputs": [],
   "source": []
  }
 ],
 "metadata": {
  "kernelspec": {
   "display_name": "Python 3",
   "language": "python",
   "name": "python3"
  },
  "language_info": {
   "codemirror_mode": {
    "name": "ipython",
    "version": 3
   },
   "file_extension": ".py",
   "mimetype": "text/x-python",
   "name": "python",
   "nbconvert_exporter": "python",
   "pygments_lexer": "ipython3",
   "version": "3.6.5"
  }
 },
 "nbformat": 4,
 "nbformat_minor": 2
}
